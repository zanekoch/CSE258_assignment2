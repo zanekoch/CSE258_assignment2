{
 "cells": [
  {
   "cell_type": "code",
   "execution_count": 1,
   "source": [
    "import numpy as np\n",
    "import statistics\n",
    "from Bio.SeqUtils import GC"
   ],
   "outputs": [],
   "metadata": {}
  },
  {
   "cell_type": "code",
   "execution_count": 2,
   "source": [
    "def padding_sequence(seq, max_len = 501, repkey = 'N'):\n",
    "    seq_len = len(seq)\n",
    "    if seq_len < max_len:\n",
    "        gap_len = max_len -seq_len\n",
    "        new_seq = seq + repkey * gap_len\n",
    "    else:\n",
    "        new_seq = seq[:max_len]\n",
    "    return new_seq"
   ],
   "outputs": [],
   "metadata": {}
  },
  {
   "cell_type": "code",
   "execution_count": 3,
   "source": [
    "def get_RNA_seq_concolutional_array(seq, motif_len = 4):\n",
    "    seq = seq.replace('U', 'T')\n",
    "    alpha = 'ACGT'\n",
    "    #for seq in seqs:\n",
    "    #for key, seq in seqs.iteritems():\n",
    "    row = (len(seq) + 2*motif_len - 2)\n",
    "    new_array = np.zeros((row, 4))\n",
    "    for i in range(motif_len-1):\n",
    "        new_array[i] = np.array([0.25]*4)\n",
    "    \n",
    "    for i in range(row-3, row):\n",
    "        new_array[i] = np.array([0.25]*4)\n",
    "        \n",
    "    #pdb.set_trace()\n",
    "    for i, val in enumerate(seq):\n",
    "        i = i + motif_len-1\n",
    "        if val not in 'ACGT':\n",
    "            new_array[i] = np.array([0.25]*4)\n",
    "            continue\n",
    "        #if val == 'N' or i < motif_len or i > len(seq) - motif_len:\n",
    "        #    new_array[i] = np.array([0.25]*4)\n",
    "        #else:\n",
    "        try:\n",
    "            index = alpha.index(val)\n",
    "            new_array[i][index] = 1\n",
    "        except:\n",
    "            pdb.set_trace()\n",
    "        #data[key] = new_array\n",
    "    return new_array\n"
   ],
   "outputs": [],
   "metadata": {}
  },
  {
   "cell_type": "code",
   "execution_count": 4,
   "source": [
    "def get_bag_data_1_channel(data, max_len = 501):\n",
    "    bags = []\n",
    "    seqs = data[\"seq\"]\n",
    "    labels = data[\"Y\"]\n",
    "    for seq in seqs:\n",
    "        #pdb.set_trace()\n",
    "        #bag_seqs = split_overlap_seq(seq)\n",
    "        \n",
    "        # replace each sequence with the sequence followed by N's until the length is equal to max_len\n",
    "        bag_seq = padding_sequence(seq, max_len = max_len)\n",
    "        #flat_array = []\n",
    "        bag_subt = []\n",
    "        #for bag_seq in bag_seqs:\n",
    "        \n",
    "        # turn the padded sequence into a 2-D array, where a row of the array is [.25,.25,.25,.25] for an N, and [1,0,0,0] for an A, [0,1,0,0] for an T, and so on\n",
    "        tri_fea = get_RNA_seq_concolutional_array(bag_seq)\n",
    "        bag_subt.append(tri_fea.T)\n",
    "\n",
    "        \n",
    "        bags.append(np.array(bag_subt))\n",
    "    \n",
    "        \n",
    "    return bags, labels"
   ],
   "outputs": [],
   "metadata": {}
  },
  {
   "cell_type": "code",
   "execution_count": 5,
   "source": [
    "def read_seq_graphprot(seq_file, label = 1):\n",
    "    seq_list = []\n",
    "    labels = []\n",
    "    seq = ''\n",
    "    with open(seq_file, 'r') as fp:\n",
    "        for line in fp:\n",
    "            if line[0] == '>':\n",
    "                name = line[1:-1]\n",
    "            else:\n",
    "                seq = line[:-1].upper()\n",
    "                seq = seq.replace('T', 'U')\n",
    "                seq_list.append(seq)\n",
    "                labels.append(label)\n",
    "    \n",
    "    return seq_list, labels"
   ],
   "outputs": [],
   "metadata": {}
  },
  {
   "cell_type": "code",
   "execution_count": 6,
   "source": [
    "def read_data_file(posifile, negafile = None, train = True):\n",
    "    data = dict()\n",
    "    seqs, labels = read_seq_graphprot(posifile, label = 1)\n",
    "    if negafile:\n",
    "        seqs2, labels2 = read_seq_graphprot(negafile, label = 0)\n",
    "        seqs = seqs + seqs2\n",
    "        labels = labels + labels2\n",
    "    # made a dictionary, \"seq\" key has a list of sequences as values, \"Y\" key has a list of 0's and 1's as values inidicating if the corresponding sequence is bound or not\n",
    "    data[\"seq\"] = seqs \n",
    "    data[\"Y\"] = np.array(labels)\n",
    "    \n",
    "    return data"
   ],
   "outputs": [],
   "metadata": {}
  },
  {
   "cell_type": "code",
   "execution_count": 7,
   "source": [
    "def get_data(posi, nega = None, channel = 7,  window_size = 101, train = True):\n",
    "    data = read_data_file(posi, nega, train = train)\n",
    "    if channel == 1:\n",
    "        # pad the sequences and turn them into one-hot-encoded 2D arrays\n",
    "        train_bags, label = get_bag_data_1_channel(data, max_len = window_size)\n",
    "\n",
    "    else:\n",
    "        train_bags, label = get_bag_data(data, channel = channel, window_size = window_size)\n",
    "    \n",
    "    return train_bags, label"
   ],
   "outputs": [],
   "metadata": {}
  },
  {
   "cell_type": "code",
   "execution_count": 8,
   "source": [
    "# TASK 1: data exploration\n",
    "train_data_dict = read_data_file('./CLIPSEQ_AGO2.train.positives.fa', './CLIPSEQ_AGO2.train.negatives.fa', train=True)\n",
    "test_data_dict = read_data_file('./CLIPSEQ_AGO2.ls.positives.fa', './CLIPSEQ_AGO2.ls.negatives.fa', train=False)"
   ],
   "outputs": [],
   "metadata": {}
  },
  {
   "cell_type": "code",
   "execution_count": 9,
   "source": [
    "print(\"The number of training samples is {} and the number of testing samples is {}\".format(len(train_data_dict[\"seq\"]), len(test_data_dict[\"seq\"])))\n",
    "\n",
    "sum = 0\n",
    "gc_sum = 0\n",
    "lens = []\n",
    "for seq in train_data_dict[\"seq\"]:\n",
    "    sum += len(seq)\n",
    "    gc_sum += GC(seq)\n",
    "    lens.append(len(seq))\n",
    "avg_seq_len = sum/len(train_data_dict[\"seq\"])\n",
    "avg_gc = gc_sum/len(train_data_dict[\"seq\"])\n",
    "sd = statistics.pstdev(lens)\n",
    "\n",
    "\n",
    "\n",
    "print(\"The average sequence length is {} basepairs and SD {}\".format(avg_seq_len, sd))\n",
    "print(\"Average GC content {}\".format(avg_gc))\n",
    "pos = train_data_dict[\"Y\"].sum()\n",
    "pos_test = test_data_dict[\"Y\"].sum()\n",
    "print(\"The number of positive training samples is {}, negative {}, positive testing {}, negative testing {}\".format(pos, len(train_data_dict[\"Y\"])-pos, pos_test, len(test_data_dict[\"Y\"])-pos_test ))                                                                                                         "
   ],
   "outputs": [
    {
     "output_type": "stream",
     "name": "stdout",
     "text": [
      "The number of training samples is 92346 and the number of testing samples is 1000\n",
      "The average sequence length is 335.3414333051783 basepairs and SD 23.562489201335342\n",
      "Average GC content 42.81991234259084\n",
      "The number of positive training samples is 48095, negative 44251, positive testing 500, negative testing 500\n"
     ]
    }
   ],
   "metadata": {}
  },
  {
   "cell_type": "code",
   "execution_count": 10,
   "source": [
    "train_data_dict_True = read_data_file('./CLIPSEQ_AGO2.train.positives.fa',train=True)\n",
    "train_data_dict_False = read_data_file('./CLIPSEQ_AGO2.train.negatives.fa',train=True)"
   ],
   "outputs": [],
   "metadata": {}
  },
  {
   "cell_type": "code",
   "execution_count": 11,
   "source": [
    "sum = 0\n",
    "gc_sum = 0\n",
    "lens = []\n",
    "for seq in train_data_dict_True[\"seq\"]:\n",
    "    sum += len(seq)\n",
    "    gc_sum += GC(seq)\n",
    "    lens.append(len(seq))\n",
    "avg_seq_len = sum/len(train_data_dict_True[\"seq\"])\n",
    "avg_gc = gc_sum/len(train_data_dict_True[\"seq\"])\n",
    "sd = statistics.pstdev(lens)\n",
    "\n",
    "\n",
    "\n",
    "print(\"The average sequence length is {} basepairs and SD {} for Positive Test Data\".format(avg_seq_len, sd))\n",
    "print(\"Average GC content {} of Positive Test Data\".format(avg_gc))"
   ],
   "outputs": [
    {
     "output_type": "stream",
     "name": "stdout",
     "text": [
      "The average sequence length is 332.4178396922757 basepairs and SD 29.05655125223127 for Positive Test Data\n",
      "Average GC content 40.52043249400809 of Positive Test Data\n"
     ]
    }
   ],
   "metadata": {}
  },
  {
   "cell_type": "code",
   "execution_count": 12,
   "source": [
    "sum = 0\n",
    "gc_sum = 0\n",
    "lens = []\n",
    "for seq in train_data_dict_False[\"seq\"]:\n",
    "    sum += len(seq)\n",
    "    gc_sum += GC(seq)\n",
    "    lens.append(len(seq))\n",
    "avg_seq_len = sum/len(train_data_dict_False[\"seq\"])\n",
    "avg_gc = gc_sum/len(train_data_dict_False[\"seq\"])\n",
    "sd = statistics.pstdev(lens)\n",
    "\n",
    "\n",
    "\n",
    "print(\"The average sequence length is {} basepairs and SD {} for Negative Test Data\".format(avg_seq_len, sd))\n",
    "print(\"Average GC content {} of Negative Test Data\".format(avg_gc))"
   ],
   "outputs": [
    {
     "output_type": "stream",
     "name": "stdout",
     "text": [
      "The average sequence length is 338.51899392104133 basepairs and SD 14.886199718920112 for Negative Test Data\n",
      "Average GC content 45.319143621377904 of Negative Test Data\n"
     ]
    }
   ],
   "metadata": {}
  },
  {
   "cell_type": "code",
   "execution_count": 14,
   "source": [
    "def numMotif(motif,string):\n",
    "    return(len(string.split(motif)))"
   ],
   "outputs": [],
   "metadata": {}
  },
  {
   "cell_type": "code",
   "execution_count": 15,
   "source": [
    "from tqdm import tqdm_notebook as tq\n",
    "# Progress bar"
   ],
   "outputs": [],
   "metadata": {}
  },
  {
   "cell_type": "code",
   "execution_count": 16,
   "source": [
    "from joblib import Parallel, delayed \n",
    "# Do code in parallel, faster"
   ],
   "outputs": [],
   "metadata": {}
  },
  {
   "cell_type": "code",
   "execution_count": 22,
   "source": [
    "import matplotlib.pyplot as plt"
   ],
   "outputs": [],
   "metadata": {}
  },
  {
   "cell_type": "code",
   "execution_count": 17,
   "source": [
    "trainTrue = read_data_file('./CLIPSEQ_AGO2.train.positives.fa',train=False)\n",
    "trainFalse = read_data_file('./CLIPSEQ_AGO2.train.negatives.fa',train=False)"
   ],
   "outputs": [],
   "metadata": {}
  },
  {
   "cell_type": "code",
   "execution_count": 18,
   "source": [
    "def sumLst(lst):\n",
    "    n=0\n",
    "    for elem in lst:\n",
    "        n+=elem\n",
    "    return n"
   ],
   "outputs": [],
   "metadata": {}
  },
  {
   "cell_type": "code",
   "execution_count": 19,
   "source": [
    "def posKmers(size=5,base=[]):\n",
    "    if size<=0:\n",
    "        return base\n",
    "    else:\n",
    "        size-=1\n",
    "        base=allShuffles(base)\n",
    "        return posKmers(size,base)\n",
    "    \n",
    "def allShuffles(lst,base=['A','C','G','U']):\n",
    "    if len(lst)==0:\n",
    "        return base\n",
    "    shuf=[]\n",
    "    for e in base:\n",
    "        for elem in lst:\n",
    "            elem2=e+elem\n",
    "            shuf.append(elem2)\n",
    "    return shuf"
   ],
   "outputs": [],
   "metadata": {}
  },
  {
   "cell_type": "code",
   "execution_count": 33,
   "source": [
    "motifTrue=[]\n",
    "motifsUsed=[]\n",
    "motifs=posKmers(4)\n",
    "for motif in tq(motifs):\n",
    "    inputs1=trainTrue['seq']\n",
    "    numMot = Parallel(n_jobs=7)(delayed(numMotif)(motif,seq) for seq in inputs1)\n",
    "    avgTrue=sumLst(numMot)/len(inputs1)\n",
    "\n",
    "    inputs2=trainFalse['seq']\n",
    "    numMot = Parallel(n_jobs=7)(delayed(numMotif)(motif,seq) for seq in inputs2)\n",
    "    avgFalse=sumLst(numMot)/len(inputs2)\n",
    "    if avgTrue-avgFalse>0.7:\n",
    "        motifTrue.append(avgTrue-avgFalse)\n",
    "        motifsUsed.append(motif)"
   ],
   "outputs": [
    {
     "output_type": "stream",
     "name": "stderr",
     "text": [
      "<ipython-input-33-8a5e042e0cf1>:4: TqdmDeprecationWarning: This function will be removed in tqdm==5.0.0\n",
      "Please use `tqdm.notebook.tqdm` instead of `tqdm.tqdm_notebook`\n",
      "  for motif in tq(motifs):\n"
     ]
    },
    {
     "output_type": "display_data",
     "data": {
      "application/vnd.jupyter.widget-view+json": {
       "model_id": "ece7f48eec52470aada17fd42d23737a",
       "version_major": 2,
       "version_minor": 0
      },
      "text/plain": [
       "HBox(children=(FloatProgress(value=0.0, max=256.0), HTML(value='')))"
      ]
     },
     "metadata": {}
    },
    {
     "output_type": "stream",
     "name": "stdout",
     "text": [
      "\n"
     ]
    }
   ],
   "metadata": {}
  },
  {
   "cell_type": "code",
   "execution_count": 34,
   "source": [
    "xs=motifsUsed\n",
    "plt.scatter(xs,motifTrue)\n",
    "plt.show()\n",
    "\n",
    "# Motifs that are more likely in positive bindings as opposed to negatvie"
   ],
   "outputs": [
    {
     "output_type": "display_data",
     "data": {
      "image/png": "[encoded data removed]",
      "text/plain": [
       "<Figure size 432x288 with 1 Axes>"
      ]
     },
     "metadata": {
      "needs_background": "light"
     }
    }
   ],
   "metadata": {}
  },
  {
   "cell_type": "code",
   "execution_count": 36,
   "source": [
    "motifsUsed"
   ],
   "outputs": [
    {
     "output_type": "execute_result",
     "data": {
      "text/plain": [
       "['AAAU', 'AUUU', 'UAAA', 'UUAA', 'UUUA']"
      ]
     },
     "metadata": {},
     "execution_count": 36
    }
   ],
   "metadata": {}
  },
  {
   "cell_type": "code",
   "execution_count": 35,
   "source": [
    "goodMotifs=['AAAU', 'AUUU', 'UAAA', 'UUAA', 'UUUA']"
   ],
   "outputs": [
    {
     "output_type": "execute_result",
     "data": {
      "text/plain": [
       "['AAAU', 'AUUU', 'UAAA', 'UUAA', 'UUUA']"
      ]
     },
     "metadata": {},
     "execution_count": 35
    }
   ],
   "metadata": {}
  },
  {
   "cell_type": "code",
   "execution_count": null,
   "source": [
    "# read in the data \n",
    "f, l = get_data('./CLIPSEQ_AGO2.train.positives.fa', './CLIPSEQ_AGO2.train.negatives.fa', channel=1)"
   ],
   "outputs": [],
   "metadata": {}
  },
  {
   "cell_type": "code",
   "execution_count": null,
   "source": [
    "f_test, l_test = get_data('./CLIPSEQ_AGO2.ls.positives.fa','CLIPSEQ_AGO2.ls.negatives.fa', channel=1, train=False)"
   ],
   "outputs": [],
   "metadata": {}
  },
  {
   "cell_type": "code",
   "execution_count": null,
   "source": [
    "f = np.array(f)\n",
    "f = np.swapaxes(f, -1, 1)"
   ],
   "outputs": [],
   "metadata": {}
  },
  {
   "cell_type": "code",
   "execution_count": null,
   "source": [
    "f_test = np.array(f_test)\n",
    "f_test = np.swapaxes(f_test, -1, 1)"
   ],
   "outputs": [],
   "metadata": {}
  },
  {
   "cell_type": "code",
   "execution_count": null,
   "source": [],
   "outputs": [],
   "metadata": {}
  }
 ],
 "metadata": {
  "interpreter": {
   "hash": "703f02bdb79bc8f251e1db33fb6f1fa012df65abb324d1bf7de099e1be8da837"
  },
  "kernelspec": {
   "name": "python3",
   "display_name": "Python 3.9.7 64-bit ('deepLearning': conda)"
  },
  "language_info": {
   "codemirror_mode": {
    "name": "ipython",
    "version": 3
   },
   "file_extension": ".py",
   "mimetype": "text/x-python",
   "name": "python",
   "nbconvert_exporter": "python",
   "pygments_lexer": "ipython3",
   "version": "3.9.7"
  }
 },
 "nbformat": 4,
 "nbformat_minor": 4
}